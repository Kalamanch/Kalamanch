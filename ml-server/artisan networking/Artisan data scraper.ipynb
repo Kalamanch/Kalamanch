{
 "cells": [
  {
   "cell_type": "code",
   "execution_count": 1,
   "id": "28434985",
   "metadata": {},
   "outputs": [],
   "source": [
    "from selenium import webdriver\n",
    "import time\n",
    "from selenium.webdriver.support.ui import Select\n",
    "from bs4 import BeautifulSoup as _BeautifulSoup"
   ]
  },
  {
   "cell_type": "code",
   "execution_count": 2,
   "id": "66353b19",
   "metadata": {},
   "outputs": [],
   "source": [
    "import csv"
   ]
  },
  {
   "cell_type": "code",
   "execution_count": 3,
   "id": "dfb09e30",
   "metadata": {},
   "outputs": [],
   "source": [
    "import warnings\n",
    "warnings.filterwarnings('ignore')"
   ]
  },
  {
   "cell_type": "code",
   "execution_count": 5,
   "id": "53d0b4da",
   "metadata": {},
   "outputs": [],
   "source": [
    "def write_data(bs4_page, state):\n",
    "     with open(state + \".csv\", \"a\", newline=\"\", encoding=\"utf-8\") as csv_file:\n",
    "        fieldnames = ['Artisan Name', 'Craft', 'Village', 'District', 'State']\n",
    "        writer = csv.DictWriter(csv_file, fieldnames = fieldnames)\n",
    "        writer.writeheader()\n",
    "        dict = {}\n",
    "        for row in bs4_page.find_all('table')[1].find_all('tr'):\n",
    "            if row == bs4_page.find_all('table')[1].find_all('tr')[-1] or bs4_page.find_all('table')[1].find_all('tr').index(row) == 0:\n",
    "                continue\n",
    "            else:\n",
    "                details = row.find_all('td')\n",
    "\n",
    "                try:\n",
    "                    dict['Artisan Name'] = details[1].text\n",
    "                    dict['Craft'] = details[5].text\n",
    "                    dict['Village'] = details[7].text\n",
    "                    dict['District'] = details[10].text\n",
    "                    dict['State'] = details[11].text\n",
    "                except:\n",
    "                    continue  #last line is added because there is a tr inside tr\n",
    "                writer.writerow(dict)"
   ]
  },
  {
   "cell_type": "code",
   "execution_count": 6,
   "id": "87e841a1",
   "metadata": {},
   "outputs": [],
   "source": [
    "def scrape(state):\n",
    "    url = 'http://handicrafts.nic.in/ArtisanData.aspx?MID=SZmOd%2fCrxTo9CHD2XKF+pA%3d%3d'\n",
    "    browser = webdriver.Chrome(r'C:/Users/DELL/Downloads/chromedriver.exe')\n",
    "    browser.get(url)\n",
    "\n",
    "\n",
    "    select = Select(browser.find_element_by_id('ContentPlaceHolder1_ddlSelectionType'))\n",
    "    select.select_by_value('State Name')\n",
    "\n",
    "    select = Select(browser.find_element_by_id('ContentPlaceHolder1_DDL_State_new'))\n",
    "    select.select_by_value(state)\n",
    "    doc = browser.find_elements_by_xpath('//*[@id=\"ContentPlaceHolder1_statesubmit_new\"]')[0]\n",
    "    doc.click()\n",
    "\n",
    "    page_source = browser.page_source\n",
    "\n",
    "    bs4_page = _BeautifulSoup(page_source, features=\"html.parser\")\n",
    "    write_data(bs4_page, state)\n",
    "    number_of_pages = len(bs4_page.find_all('table')[1].find_all('tr')[-1].find_all('td'))\n",
    "    if number_of_pages > 10:\n",
    "        for i in range(2, number_of_pages-1):\n",
    "            doc = browser.find_elements_by_xpath('/html/body/form/div[8]/div/div[1]/div/div[2]/div/table[2]/tbody/tr[202]/td/table/tbody/tr/td[{}]/a'.format(i))[0]\n",
    "            doc.click()\n",
    "            page_source = browser.page_source\n",
    "            bs4_page = _BeautifulSoup(page_source, features=\"html.parser\")\n",
    "            write_data(bs4_page, state)\n",
    "    else: \n",
    "        for i in range(2, number_of_pages+1):\n",
    "            doc = browser.find_elements_by_xpath('/html/body/form/div[8]/div/div[1]/div/div[2]/div/table[2]/tbody/tr[202]/td/table/tbody/tr/td[{}]/a'.format(i))[0]\n",
    "            doc.click()\n",
    "            page_source = browser.page_source\n",
    "            bs4_page = _BeautifulSoup(page_source, features=\"html.parser\")\n",
    "            write_data(bs4_page, state)\n",
    "\n",
    "    time.sleep(5)\n",
    "    browser.quit()"
   ]
  },
  {
   "cell_type": "code",
   "execution_count": 7,
   "id": "84e19a5c",
   "metadata": {},
   "outputs": [],
   "source": [
    "states = ['Andaman and Nicobar', 'Andhra Pradesh', 'Arunachal Pradesh', 'Assam', 'Bihar', 'Chhattisgarh', 'Delhi', 'Goa', 'Gujarat', 'Haryana', 'Himachal Pradesh', 'Jammu and Kashmir', 'Jharkhand', 'Karnataka', 'Kerala', 'Madhya Pradesh', 'Maharashtra', 'Manipur', 'Meghalaya', 'Mizoram', 'Nagaland', 'Odisha', 'Puducherry', 'Punjab', 'Rajasthan', 'Sikkim', 'Tamil Nadu', 'Telangana', 'Tripura', 'Uttar Pradesh', 'Uttarakhand', 'West Bengal']\n",
    "for state in states:\n",
    "    scrape(state)\n"
   ]
  },
  {
   "cell_type": "markdown",
   "id": "6b41ec48",
   "metadata": {},
   "source": [
    "### To find the list of states"
   ]
  },
  {
   "cell_type": "code",
   "execution_count": 11,
   "id": "bd58f7dc",
   "metadata": {},
   "outputs": [],
   "source": [
    "# states = []\n",
    "# for state in bs4_page.find_all('select')[1].find_all('option'):\n",
    "#     states.append(state.text)\n",
    "# states.pop(0)"
   ]
  }
 ],
 "metadata": {
  "kernelspec": {
   "display_name": "Python 3 (ipykernel)",
   "language": "python",
   "name": "python3"
  },
  "language_info": {
   "codemirror_mode": {
    "name": "ipython",
    "version": 3
   },
   "file_extension": ".py",
   "mimetype": "text/x-python",
   "name": "python",
   "nbconvert_exporter": "python",
   "pygments_lexer": "ipython3",
   "version": "3.9.7"
  }
 },
 "nbformat": 4,
 "nbformat_minor": 5
}
